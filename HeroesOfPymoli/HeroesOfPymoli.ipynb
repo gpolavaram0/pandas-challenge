{
 "cells": [
  {
   "cell_type": "markdown",
   "metadata": {},
   "source": [
    "### Note\n",
    "* Instructions have been included for each segment. You do not have to follow them exactly, but they are included to help you think through the steps."
   ]
  },
  {
   "cell_type": "code",
   "execution_count": 1,
   "metadata": {},
   "outputs": [],
   "source": [
    "# Dependencies and Setup\n",
    "import pandas as pd\n",
    "import numpy as np\n",
    "\n",
    "# File to Load (Remember to Change These)\n",
    "file_to_load = \"Resources/purchase_data.csv\"\n",
    "\n",
    "# Read Purchasing File and store into Pandas data frame\n",
    "purchase_data = pd.read_csv(file_to_load)"
   ]
  },
  {
   "cell_type": "markdown",
   "metadata": {},
   "source": [
    "## Player Count"
   ]
  },
  {
   "cell_type": "markdown",
   "metadata": {},
   "source": [
    "* Display the total number of players\n"
   ]
  },
  {
   "cell_type": "code",
   "execution_count": 2,
   "metadata": {},
   "outputs": [
    {
     "data": {
      "text/html": [
       "<div>\n",
       "<style scoped>\n",
       "    .dataframe tbody tr th:only-of-type {\n",
       "        vertical-align: middle;\n",
       "    }\n",
       "\n",
       "    .dataframe tbody tr th {\n",
       "        vertical-align: top;\n",
       "    }\n",
       "\n",
       "    .dataframe thead th {\n",
       "        text-align: right;\n",
       "    }\n",
       "</style>\n",
       "<table border=\"1\" class=\"dataframe\">\n",
       "  <thead>\n",
       "    <tr style=\"text-align: right;\">\n",
       "      <th></th>\n",
       "      <th>Total Player</th>\n",
       "    </tr>\n",
       "  </thead>\n",
       "  <tbody>\n",
       "    <tr>\n",
       "      <th>0</th>\n",
       "      <td>576</td>\n",
       "    </tr>\n",
       "  </tbody>\n",
       "</table>\n",
       "</div>"
      ],
      "text/plain": [
       "   Total Player\n",
       "0           576"
      ]
     },
     "execution_count": 2,
     "metadata": {},
     "output_type": "execute_result"
    }
   ],
   "source": [
    "#setting it as a list\n",
    "purchase_data_list = list(purchase_data)\n",
    "\n",
    "#counting everything in that dataframe column\n",
    "df_pymoli = pd.DataFrame(purchase_data)\n",
    "\n",
    "#counting only unique values\n",
    "df_pymoli_count = len(df_pymoli.SN.unique())\n",
    "\n",
    "#turning it back into dataframe\n",
    "pd.DataFrame({\"Total Player\":[df_pymoli_count]})"
   ]
  },
  {
   "cell_type": "markdown",
   "metadata": {},
   "source": [
    "## Purchasing Analysis (Total)"
   ]
  },
  {
   "cell_type": "markdown",
   "metadata": {},
   "source": [
    "* Run basic calculations to obtain number of unique items, average price, etc.\n",
    "\n",
    "\n",
    "* Create a summary data frame to hold the results\n",
    "\n",
    "\n",
    "* Optional: give the displayed data cleaner formatting\n",
    "\n",
    "\n",
    "* Display the summary data frame\n"
   ]
  },
  {
   "cell_type": "code",
   "execution_count": 3,
   "metadata": {
    "scrolled": true
   },
   "outputs": [
    {
     "data": {
      "text/html": [
       "<div>\n",
       "<style scoped>\n",
       "    .dataframe tbody tr th:only-of-type {\n",
       "        vertical-align: middle;\n",
       "    }\n",
       "\n",
       "    .dataframe tbody tr th {\n",
       "        vertical-align: top;\n",
       "    }\n",
       "\n",
       "    .dataframe thead th {\n",
       "        text-align: right;\n",
       "    }\n",
       "</style>\n",
       "<table border=\"1\" class=\"dataframe\">\n",
       "  <thead>\n",
       "    <tr style=\"text-align: right;\">\n",
       "      <th></th>\n",
       "      <th>Number of Unique Items</th>\n",
       "      <th>Average Price</th>\n",
       "      <th>Number of Purchases</th>\n",
       "      <th>Total Revenue</th>\n",
       "    </tr>\n",
       "  </thead>\n",
       "  <tbody>\n",
       "    <tr>\n",
       "      <th>0</th>\n",
       "      <td>183</td>\n",
       "      <td>$3.05</td>\n",
       "      <td>780</td>\n",
       "      <td>$2379.77</td>\n",
       "    </tr>\n",
       "  </tbody>\n",
       "</table>\n",
       "</div>"
      ],
      "text/plain": [
       "   Number of Unique Items Average Price  Number of Purchases Total Revenue\n",
       "0                     183         $3.05                  780      $2379.77"
      ]
     },
     "execution_count": 3,
     "metadata": {},
     "output_type": "execute_result"
    }
   ],
   "source": [
    "num_unique = len(df_pymoli['Item ID'].unique())\n",
    "\n",
    "arr_purchAnalys = {'Number of Unique Items':[len(df_pymoli['Item ID'].unique())],'Average Price':[df_pymoli['Price'].mean().round(2)],'Number of Purchases':[len(df_pymoli['Purchase ID'])],'Total Revenue':[sum(df_pymoli['Price'])]}\n",
    "\n",
    "df_arr_purchAnalys = pd.DataFrame(arr_purchAnalys)\n",
    "df_arr_purchAnalys[\"Average Price\"] = \"$\" + df_arr_purchAnalys[\"Average Price\"].astype(str)\n",
    "df_arr_purchAnalys[\"Total Revenue\"] = \"$\" + df_arr_purchAnalys[\"Total Revenue\"].round(2).astype(str)\n",
    "df_arr_purchAnalys"
   ]
  },
  {
   "cell_type": "markdown",
   "metadata": {},
   "source": [
    "## Gender Demographics"
   ]
  },
  {
   "cell_type": "markdown",
   "metadata": {},
   "source": [
    "* Percentage and Count of Male Players\n",
    "\n",
    "\n",
    "* Percentage and Count of Female Players\n",
    "\n",
    "\n",
    "* Percentage and Count of Other / Non-Disclosed\n",
    "\n",
    "\n"
   ]
  },
  {
   "cell_type": "code",
   "execution_count": 4,
   "metadata": {},
   "outputs": [
    {
     "data": {
      "text/html": [
       "<div>\n",
       "<style scoped>\n",
       "    .dataframe tbody tr th:only-of-type {\n",
       "        vertical-align: middle;\n",
       "    }\n",
       "\n",
       "    .dataframe tbody tr th {\n",
       "        vertical-align: top;\n",
       "    }\n",
       "\n",
       "    .dataframe thead th {\n",
       "        text-align: right;\n",
       "    }\n",
       "</style>\n",
       "<table border=\"1\" class=\"dataframe\">\n",
       "  <thead>\n",
       "    <tr style=\"text-align: right;\">\n",
       "      <th></th>\n",
       "      <th>Total Count</th>\n",
       "      <th>Percentage of Players</th>\n",
       "    </tr>\n",
       "  </thead>\n",
       "  <tbody>\n",
       "    <tr>\n",
       "      <th>Male</th>\n",
       "      <td>484</td>\n",
       "      <td>84.03%</td>\n",
       "    </tr>\n",
       "    <tr>\n",
       "      <th>Female</th>\n",
       "      <td>81</td>\n",
       "      <td>14.06%</td>\n",
       "    </tr>\n",
       "    <tr>\n",
       "      <th>Other / Non-Disclosed</th>\n",
       "      <td>11</td>\n",
       "      <td>1.91%</td>\n",
       "    </tr>\n",
       "  </tbody>\n",
       "</table>\n",
       "</div>"
      ],
      "text/plain": [
       "                       Total Count Percentage of Players\n",
       "Male                           484                84.03%\n",
       "Female                          81                14.06%\n",
       "Other / Non-Disclosed           11                 1.91%"
      ]
     },
     "execution_count": 4,
     "metadata": {},
     "output_type": "execute_result"
    }
   ],
   "source": [
    "df_pymoli_SN_unique = pd.DataFrame(df_pymoli['SN'].unique())\n",
    "#df_pymoli['Gender'].unique()\n",
    "df_pymoli_SN_unique\n",
    "#dropping unique values from SN column\n",
    "df_pymoli_SN_unique.apply(pd.Series.value_counts)\n",
    "df_pymoli_dropped_dup_SN = df_pymoli.drop_duplicates(subset=['SN'])\n",
    "\n",
    "#adding up gender numbers after dropped unique SN's\n",
    "df_genders = df_pymoli_dropped_dup_SN['Gender'].value_counts()\n",
    "\n",
    "pd.DataFrame(df_genders)\n",
    "\n",
    "#changing column name\n",
    "df_gender_count = pd.DataFrame(df_genders).rename(columns={'Gender': 'Total Count'})\n",
    "\n",
    "#calculating perctange column\n",
    "df_gender_count_perct = 100 * df_gender_count['Total Count']/df_gender_count['Total Count'].sum()\n",
    "df_gender_count_perct = pd.DataFrame(df_gender_count_perct).rename(columns={'Total Count': 'Percentage of Players'})\n",
    "\n",
    "#rounding to 2 decimal places\n",
    "df_gender_count_perct['Percentage of Players'] = df_gender_count_perct['Percentage of Players'].round(2)\n",
    "\n",
    "#adding percentage sign\n",
    "df_gender_count_perct['Percentage of Players'] = df_gender_count_perct['Percentage of Players'] .astype(str) + '%'\n",
    "\n",
    "#adding total count and percentage dataframe together\n",
    "df_gender_demo_df = pd.concat([df_gender_count, df_gender_count_perct],axis=1) \n",
    "df_gender_demo_df"
   ]
  },
  {
   "cell_type": "markdown",
   "metadata": {},
   "source": [
    "\n",
    "## Purchasing Analysis (Gender)"
   ]
  },
  {
   "cell_type": "markdown",
   "metadata": {},
   "source": [
    "* Run basic calculations to obtain purchase count, avg. purchase price, avg. purchase total per person etc. by gender\n",
    "\n",
    "\n",
    "\n",
    "\n",
    "* Create a summary data frame to hold the results\n",
    "\n",
    "\n",
    "* Optional: give the displayed data cleaner formatting\n",
    "\n",
    "\n",
    "* Display the summary data frame"
   ]
  },
  {
   "cell_type": "code",
   "execution_count": 5,
   "metadata": {},
   "outputs": [
    {
     "data": {
      "text/html": [
       "<div>\n",
       "<style scoped>\n",
       "    .dataframe tbody tr th:only-of-type {\n",
       "        vertical-align: middle;\n",
       "    }\n",
       "\n",
       "    .dataframe tbody tr th {\n",
       "        vertical-align: top;\n",
       "    }\n",
       "\n",
       "    .dataframe thead th {\n",
       "        text-align: right;\n",
       "    }\n",
       "</style>\n",
       "<table border=\"1\" class=\"dataframe\">\n",
       "  <thead>\n",
       "    <tr style=\"text-align: right;\">\n",
       "      <th></th>\n",
       "      <th>Purchase Count</th>\n",
       "      <th>Average Purchase Price</th>\n",
       "      <th>Total Purchase Price</th>\n",
       "      <th>Avg Total Purchase per Person</th>\n",
       "    </tr>\n",
       "  </thead>\n",
       "  <tbody>\n",
       "    <tr>\n",
       "      <th>Female</th>\n",
       "      <td>113</td>\n",
       "      <td>$3.2</td>\n",
       "      <td>$361.94</td>\n",
       "      <td>$4.47</td>\n",
       "    </tr>\n",
       "    <tr>\n",
       "      <th>Male</th>\n",
       "      <td>652</td>\n",
       "      <td>$3.02</td>\n",
       "      <td>$1967.64</td>\n",
       "      <td>$4.07</td>\n",
       "    </tr>\n",
       "    <tr>\n",
       "      <th>Other / Non-Disclosed</th>\n",
       "      <td>15</td>\n",
       "      <td>$3.35</td>\n",
       "      <td>$50.19</td>\n",
       "      <td>$4.56</td>\n",
       "    </tr>\n",
       "  </tbody>\n",
       "</table>\n",
       "</div>"
      ],
      "text/plain": [
       "                       Purchase Count Average Purchase Price  \\\n",
       "Female                            113                   $3.2   \n",
       "Male                              652                  $3.02   \n",
       "Other / Non-Disclosed              15                  $3.35   \n",
       "\n",
       "                      Total Purchase Price Avg Total Purchase per Person  \n",
       "Female                             $361.94                         $4.47  \n",
       "Male                              $1967.64                         $4.07  \n",
       "Other / Non-Disclosed               $50.19                         $4.56  "
      ]
     },
     "execution_count": 5,
     "metadata": {},
     "output_type": "execute_result"
    }
   ],
   "source": [
    "#defining new DF so original wont be altered\n",
    "df_purch_analys = df_pymoli\n",
    "#getting count of values and putting into new DF\n",
    "df_purch_analys_final_df = pd.DataFrame(df_purch_analys[\"Gender\"].value_counts())\n",
    "df_purch_analys_final_df_priceSum = pd.DataFrame(df_purch_analys[\"Price\"])\n",
    "\n",
    "#rename first column to \"Purchase Count\" from \"Gender\"\n",
    "df_purch_analys_final_df = df_purch_analys_final_df.rename(columns={'Gender': 'Purchase Count'})\n",
    "\n",
    "\n",
    "#Adding Average Purchase Price to DF, then rounding to 2 decimals places and add $ to string\n",
    "df_purch_analys_final_df[\"Average Purchase Price\"] = pd.DataFrame(\"$\" + df_purch_analys.groupby(\"Gender\").mean()[\"Price\"].round(2).astype(str))\n",
    "\n",
    "#Adding Total Purchase Price to DF, then rounding to 2 decimals places and add $ to string\n",
    "df_purch_analys_final_df[\"Total Purchase Price\"] = (\"$\" + (df_purch_analys.groupby(\"Gender\").mean()[\"Price\"] * df_purch_analys_final_df[\"Purchase Count\"]).round(2).astype(str))\n",
    "\n",
    "#df_pymoli_dropped_dup_SN[\"Gender\"].value_counts()  \n",
    "\n",
    "#(df_purch_analys.groupby(\"Gender\").mean()[\"Price\"] * df_purch_analys_final_df[\"Purchase Count\"])\n",
    "#pd.DataFrame(df_pymoli_dropped_dup_SN[\"Gender\"].value_counts()).reindex([\"Female\",\"Male\",\"Other / Non-Disclosed\"])\n",
    "\n",
    "#list/index of avg totals purchase per person\n",
    "avg_tot_per_person = ((df_purch_analys.groupby(\"Gender\").mean()[\"Price\"] * df_purch_analys_final_df[\"Purchase Count\"])/df_gender_demo_df['Total Count']).round(2)\n",
    "\n",
    "#reindexing to correct order as shown in HW\n",
    "df_purch_analys_final_df = df_purch_analys_final_df.reindex([\"Female\",\"Male\",\"Other / Non-Disclosed\"])\n",
    "\n",
    "#Adding Avg Total Purchase per Person column and then turning into string and \"$\"\n",
    "df_purch_analys_final_df[\"Avg Total Purchase per Person\"] = pd.DataFrame((\"$\" + avg_tot_per_person.astype(str)))\n",
    "\n",
    "df_purch_analys_final_df"
   ]
  },
  {
   "cell_type": "markdown",
   "metadata": {},
   "source": [
    "## Age Demographics"
   ]
  },
  {
   "cell_type": "markdown",
   "metadata": {},
   "source": [
    "* Establish bins for ages\n",
    "\n",
    "\n",
    "* Categorize the existing players using the age bins. Hint: use pd.cut()\n",
    "\n",
    "\n",
    "* Calculate the numbers and percentages by age group\n",
    "\n",
    "\n",
    "* Create a summary data frame to hold the results\n",
    "\n",
    "\n",
    "* Optional: round the percentage column to two decimal points\n",
    "\n",
    "\n",
    "* Display Age Demographics Table\n"
   ]
  },
  {
   "cell_type": "code",
   "execution_count": 41,
   "metadata": {},
   "outputs": [
    {
     "data": {
      "text/html": [
       "<div>\n",
       "<style scoped>\n",
       "    .dataframe tbody tr th:only-of-type {\n",
       "        vertical-align: middle;\n",
       "    }\n",
       "\n",
       "    .dataframe tbody tr th {\n",
       "        vertical-align: top;\n",
       "    }\n",
       "\n",
       "    .dataframe thead th {\n",
       "        text-align: right;\n",
       "    }\n",
       "</style>\n",
       "<table border=\"1\" class=\"dataframe\">\n",
       "  <thead>\n",
       "    <tr style=\"text-align: right;\">\n",
       "      <th></th>\n",
       "      <th>Total Count</th>\n",
       "      <th>Percentage of Players</th>\n",
       "    </tr>\n",
       "  </thead>\n",
       "  <tbody>\n",
       "    <tr>\n",
       "      <th>&lt;10</th>\n",
       "      <td>17</td>\n",
       "      <td>2.95%</td>\n",
       "    </tr>\n",
       "    <tr>\n",
       "      <th>10-14</th>\n",
       "      <td>22</td>\n",
       "      <td>3.82%</td>\n",
       "    </tr>\n",
       "    <tr>\n",
       "      <th>15-19</th>\n",
       "      <td>107</td>\n",
       "      <td>18.58%</td>\n",
       "    </tr>\n",
       "    <tr>\n",
       "      <th>20-24</th>\n",
       "      <td>258</td>\n",
       "      <td>44.79%</td>\n",
       "    </tr>\n",
       "    <tr>\n",
       "      <th>25-29</th>\n",
       "      <td>77</td>\n",
       "      <td>13.37%</td>\n",
       "    </tr>\n",
       "    <tr>\n",
       "      <th>30-34</th>\n",
       "      <td>52</td>\n",
       "      <td>9.03%</td>\n",
       "    </tr>\n",
       "    <tr>\n",
       "      <th>35-39</th>\n",
       "      <td>31</td>\n",
       "      <td>5.38%</td>\n",
       "    </tr>\n",
       "    <tr>\n",
       "      <th>40+</th>\n",
       "      <td>12</td>\n",
       "      <td>2.08%</td>\n",
       "    </tr>\n",
       "  </tbody>\n",
       "</table>\n",
       "</div>"
      ],
      "text/plain": [
       "       Total Count Percentage of Players\n",
       "<10             17                 2.95%\n",
       "10-14           22                 3.82%\n",
       "15-19          107                18.58%\n",
       "20-24          258                44.79%\n",
       "25-29           77                13.37%\n",
       "30-34           52                 9.03%\n",
       "35-39           31                 5.38%\n",
       "40+             12                 2.08%"
      ]
     },
     "execution_count": 41,
     "metadata": {},
     "output_type": "execute_result"
    }
   ],
   "source": [
    "#set df_age_demo = df_pymoli so that original DF will be unaltered\n",
    "df_age_demo = df_pymoli\n",
    "\n",
    "#set the bins and group names for the binning and cut function\n",
    "age_demo_bins = [0,9,14,19,24,29,34,39,100]\n",
    "age_demo__group_names = [\"<10\",\"10-14\",\"15-19\",\"20-24\",\"25-29\",\"30-34\",\"35-39\",\"40+\"]\n",
    "\n",
    "#adding the bin column to df_age_demo then getting the value_count\n",
    "df_age_demo[\"Total Count\"] = pd.cut(df_pymoli_dropped_dup_SN[\"Age\"], bins = age_demo_bins, labels = age_demo__group_names)\n",
    "df_age_demo_VC = pd.DataFrame(df_age_demo['Total Count'].value_counts())\n",
    "\n",
    "#Adding \"Percentage of Players\" column to final DF then multiplying by 100 and turning into string to add % sign\n",
    "df_age_demo_VC[\"Percentage of Players\"] = (100 * df_age_demo_VC[\"Total Count\"]/sum(df_age_demo_VC[\"Total Count\"])).round(2).astype(str) + \"%\"\n",
    "\n",
    "\n",
    "\n",
    "#reindexing to get DF back in right order\n",
    "df_age_demo_VC = df_age_demo_VC.reindex(age_demo__group_names)\n",
    "df_age_demo_VC = pd.DataFrame(df_age_demo_VC)\n",
    "df_age_demo = pd.DataFrame(df_age_demo_VC)\n",
    "df_age_demo"
   ]
  },
  {
   "cell_type": "markdown",
   "metadata": {},
   "source": [
    "## Purchasing Analysis (Age)"
   ]
  },
  {
   "cell_type": "markdown",
   "metadata": {},
   "source": [
    "# * Bin the purchase_data data frame by age\n",
    "\n",
    "\n",
    "* Run basic calculations to obtain purchase count, avg. purchase price, avg. purchase total per person etc. in the table below\n",
    "\n",
    "\n",
    "* Create a summary data frame to hold the results\n",
    "\n",
    "\n",
    "* Optional: give the displayed data cleaner formatting\n",
    "\n",
    "\n",
    "* Display the summary data frame"
   ]
  },
  {
   "cell_type": "code",
   "execution_count": 62,
   "metadata": {},
   "outputs": [
    {
     "data": {
      "text/html": [
       "<div>\n",
       "<style scoped>\n",
       "    .dataframe tbody tr th:only-of-type {\n",
       "        vertical-align: middle;\n",
       "    }\n",
       "\n",
       "    .dataframe tbody tr th {\n",
       "        vertical-align: top;\n",
       "    }\n",
       "\n",
       "    .dataframe thead th {\n",
       "        text-align: right;\n",
       "    }\n",
       "</style>\n",
       "<table border=\"1\" class=\"dataframe\">\n",
       "  <thead>\n",
       "    <tr style=\"text-align: right;\">\n",
       "      <th></th>\n",
       "      <th>Purchase Count</th>\n",
       "      <th>Average Purchase Price</th>\n",
       "      <th>Total Purchase Value</th>\n",
       "      <th>Avg Total Purchase per Person</th>\n",
       "    </tr>\n",
       "  </thead>\n",
       "  <tbody>\n",
       "    <tr>\n",
       "      <th>&lt;10</th>\n",
       "      <td>23</td>\n",
       "      <td>$3.35</td>\n",
       "      <td>$77.13</td>\n",
       "      <td>$4.54</td>\n",
       "    </tr>\n",
       "    <tr>\n",
       "      <th>10-14</th>\n",
       "      <td>28</td>\n",
       "      <td>$2.96</td>\n",
       "      <td>$82.78</td>\n",
       "      <td>$3.76</td>\n",
       "    </tr>\n",
       "    <tr>\n",
       "      <th>15-19</th>\n",
       "      <td>136</td>\n",
       "      <td>$3.04</td>\n",
       "      <td>$412.89</td>\n",
       "      <td>$3.86</td>\n",
       "    </tr>\n",
       "    <tr>\n",
       "      <th>20-24</th>\n",
       "      <td>365</td>\n",
       "      <td>$3.05</td>\n",
       "      <td>$1114.06</td>\n",
       "      <td>$4.32</td>\n",
       "    </tr>\n",
       "    <tr>\n",
       "      <th>25-29</th>\n",
       "      <td>101</td>\n",
       "      <td>$2.9</td>\n",
       "      <td>$293.0</td>\n",
       "      <td>$3.81</td>\n",
       "    </tr>\n",
       "    <tr>\n",
       "      <th>30-34</th>\n",
       "      <td>73</td>\n",
       "      <td>$2.93</td>\n",
       "      <td>$214.0</td>\n",
       "      <td>$4.12</td>\n",
       "    </tr>\n",
       "    <tr>\n",
       "      <th>35-39</th>\n",
       "      <td>41</td>\n",
       "      <td>$3.6</td>\n",
       "      <td>$147.67</td>\n",
       "      <td>$4.76</td>\n",
       "    </tr>\n",
       "    <tr>\n",
       "      <th>40+</th>\n",
       "      <td>13</td>\n",
       "      <td>$2.94</td>\n",
       "      <td>$38.24</td>\n",
       "      <td>$3.19</td>\n",
       "    </tr>\n",
       "  </tbody>\n",
       "</table>\n",
       "</div>"
      ],
      "text/plain": [
       "       Purchase Count Average Purchase Price Total Purchase Value  \\\n",
       "<10                23                  $3.35               $77.13   \n",
       "10-14              28                  $2.96               $82.78   \n",
       "15-19             136                  $3.04              $412.89   \n",
       "20-24             365                  $3.05             $1114.06   \n",
       "25-29             101                   $2.9               $293.0   \n",
       "30-34              73                  $2.93               $214.0   \n",
       "35-39              41                   $3.6              $147.67   \n",
       "40+                13                  $2.94               $38.24   \n",
       "\n",
       "      Avg Total Purchase per Person  \n",
       "<10                           $4.54  \n",
       "10-14                         $3.76  \n",
       "15-19                         $3.86  \n",
       "20-24                         $4.32  \n",
       "25-29                         $3.81  \n",
       "30-34                         $4.12  \n",
       "35-39                         $4.76  \n",
       "40+                           $3.19  "
      ]
     },
     "execution_count": 62,
     "metadata": {},
     "output_type": "execute_result"
    }
   ],
   "source": [
    "df_purch_analys_age = df_pymoli\n",
    "\n",
    "purch_analys_bins = [0,9,14,19,24,29,34,39,100]\n",
    "purch_analys_group_names = [\"<10\",\"10-14\",\"15-19\",\"20-24\",\"25-29\",\"30-34\",\"35-39\",\"40+\"]\n",
    "\n",
    "df_purch_analys_age[\"Purchase Count\"] = pd.cut(df_pymoli[\"Age\"], bins = purch_analys_bins, labels = purch_analys_group_names)\n",
    "\n",
    "purch_analys_age_1 = df_purch_analys[\"Purchase Count\"].value_counts()\n",
    "purch_analys_age_1 = pd.DataFrame(purch_analys_age_1).reindex(purch_analys_group_names)\n",
    "#df_purch_analys_age_1.groupby(\"Gender\").mean()[\"Price\"]\n",
    "df_purch_analys_age_1 = purch_analys_age_1\n",
    "df_purch_analys_age[\"Avg Total Purchase per Person\"] = pd.cut(df_pymoli[\"Price\"], bins = purch_analys_bins, labels = purch_analys_group_names)\n",
    "\n",
    "#produces \"Total Purchase Value\" column list\n",
    "df_pymoli.groupby('Purchase Count').Price.mean()\n",
    "\n",
    "#produces \"Total Purchase Value\" column DF\n",
    "df_purch_analys_age_3 = pd.DataFrame(df_pymoli.groupby('Purchase Count').Price.mean())\n",
    "#df_purch_analys_age_3 = df_purch_analys_age_3.rename(columns = {\"Price\":\"\"})\n",
    "\n",
    "#Total Purchase Value\n",
    "df_purch_analys_age_3.index.name = None\n",
    "purch_analys_age_4 = df_purch_analys_age_3['Price'] * df_purch_analys_age_1['Purchase Count']\n",
    "\n",
    "#Avg Total Purchase per Person index\n",
    "purch_analys_age_5 = purch_analys_age_4 / df_age_demo['Total Count']\n",
    "\n",
    "#Purchase count DF\n",
    "df_purch_analys_age_1\n",
    "\n",
    "#Average Purchase Price DF\n",
    "df_purch_analys_age_3\n",
    "\n",
    "#Adding Average Purchase Price to Purchase Count\n",
    "df_purch_analys_age_1[\"Average Purchase Price\"] = \"$\" + (df_purch_analys_age_3.round(2)).astype(str)\n",
    "\n",
    "#Adding Total Purchase Value to final DF\n",
    "df_purch_analys_age_1[\"Total Purchase Value\"] = \"$\" + (purch_analys_age_4.round(2)).astype(str)\n",
    "df_purch_analys_age_1[\"Avg Total Purchase per Person\"] = \"$\" + (purch_analys_age_5.round(2)).astype(str)\n",
    "df_purch_analys_age_1\n",
    "\n",
    "#Answer DF\n",
    "Final_Answer_DF = df_purch_analys_age_1\n",
    "Final_Answer_DF"
   ]
  },
  {
   "cell_type": "markdown",
   "metadata": {},
   "source": [
    "## Top Spenders"
   ]
  },
  {
   "cell_type": "markdown",
   "metadata": {},
   "source": [
    "* Run basic calculations to obtain the results in the table below\n",
    "\n",
    "\n",
    "* Create a summary data frame to hold the results\n",
    "\n",
    "\n",
    "* Sort the total purchase value column in descending order\n",
    "\n",
    "\n",
    "* Optional: give the displayed data cleaner formatting\n",
    "\n",
    "\n",
    "* Display a preview of the summary data frame\n",
    "\n"
   ]
  },
  {
   "cell_type": "code",
   "execution_count": null,
   "metadata": {},
   "outputs": [],
   "source": []
  },
  {
   "cell_type": "markdown",
   "metadata": {},
   "source": [
    "## Most Popular Items"
   ]
  },
  {
   "cell_type": "markdown",
   "metadata": {},
   "source": [
    "* Retrieve the Item ID, Item Name, and Item Price columns\n",
    "\n",
    "\n",
    "* Group by Item ID and Item Name. Perform calculations to obtain purchase count, item price, and total purchase value\n",
    "\n",
    "\n",
    "* Create a summary data frame to hold the results\n",
    "\n",
    "\n",
    "* Sort the purchase count column in descending order\n",
    "\n",
    "\n",
    "* Optional: give the displayed data cleaner formatting\n",
    "\n",
    "\n",
    "* Display a preview of the summary data frame\n",
    "\n"
   ]
  },
  {
   "cell_type": "code",
   "execution_count": null,
   "metadata": {},
   "outputs": [],
   "source": []
  },
  {
   "cell_type": "markdown",
   "metadata": {},
   "source": [
    "## Most Profitable Items"
   ]
  },
  {
   "cell_type": "markdown",
   "metadata": {},
   "source": [
    "* Sort the above table by total purchase value in descending order\n",
    "\n",
    "\n",
    "* Optional: give the displayed data cleaner formatting\n",
    "\n",
    "\n",
    "* Display a preview of the data frame\n",
    "\n"
   ]
  },
  {
   "cell_type": "code",
   "execution_count": null,
   "metadata": {
    "scrolled": true
   },
   "outputs": [],
   "source": []
  },
  {
   "cell_type": "code",
   "execution_count": null,
   "metadata": {},
   "outputs": [],
   "source": [
    "df_pymoli"
   ]
  },
  {
   "cell_type": "code",
   "execution_count": null,
   "metadata": {},
   "outputs": [],
   "source": []
  },
  {
   "cell_type": "code",
   "execution_count": null,
   "metadata": {},
   "outputs": [],
   "source": []
  },
  {
   "cell_type": "code",
   "execution_count": null,
   "metadata": {},
   "outputs": [],
   "source": []
  }
 ],
 "metadata": {
  "anaconda-cloud": {},
  "kernel_info": {
   "name": "python3"
  },
  "kernelspec": {
   "display_name": "Python 3.7.6 64-bit ('PythonData': conda)",
   "language": "python",
   "name": "python37664bitpythondataconda295494d0ace540d685491cb338ac9b34"
  },
  "language_info": {
   "codemirror_mode": {
    "name": "ipython",
    "version": 3
   },
   "file_extension": ".py",
   "mimetype": "text/x-python",
   "name": "python",
   "nbconvert_exporter": "python",
   "pygments_lexer": "ipython3",
   "version": "3.7.6"
  },
  "latex_envs": {
   "LaTeX_envs_menu_present": true,
   "autoclose": false,
   "autocomplete": true,
   "bibliofile": "biblio.bib",
   "cite_by": "apalike",
   "current_citInitial": 1,
   "eqLabelWithNumbers": true,
   "eqNumInitial": 1,
   "hotkeys": {
    "equation": "Ctrl-E",
    "itemize": "Ctrl-I"
   },
   "labels_anchors": false,
   "latex_user_defs": false,
   "report_style_numbering": false,
   "user_envs_cfg": false
  },
  "nteract": {
   "version": "0.2.0"
  }
 },
 "nbformat": 4,
 "nbformat_minor": 2
}
